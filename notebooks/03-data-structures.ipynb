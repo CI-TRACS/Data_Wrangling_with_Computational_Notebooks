{
 "cells": [
  {
   "cell_type": "markdown",
   "id": "eligible-extra",
   "metadata": {},
   "source": [
    "# Loading and Handling Pandas Data"
   ]
  },
  {
   "cell_type": "markdown",
   "id": "physical-wagon",
   "metadata": {},
   "source": [
    "---"
   ]
  },
  {
   "cell_type": "markdown",
   "id": "intense-suspect",
   "metadata": {},
   "source": [
    "## Parsing Data"
   ]
  },
  {
   "cell_type": "markdown",
   "id": "corrected-gather",
   "metadata": {},
   "source": [
    "Import the pandas library. **Note that the code below sets pd to reference the pandas library.**"
   ]
  },
  {
   "cell_type": "code",
   "execution_count": null,
   "id": "historic-medicaid",
   "metadata": {},
   "outputs": [],
   "source": [
    "import pandas as pd"
   ]
  },
  {
   "cell_type": "markdown",
   "id": "looking-bargain",
   "metadata": {},
   "source": [
    "Loading a tsv file through the read_csv function and specifying that tabs seperate columns in the file. "
   ]
  },
  {
   "cell_type": "code",
   "execution_count": null,
   "id": "marked-anatomy",
   "metadata": {},
   "outputs": [],
   "source": [
    "df = pd.read_csv('data/tsv_example.tsv', sep='\\t')\n",
    "df"
   ]
  },
  {
   "cell_type": "markdown",
   "id": "proud-costa",
   "metadata": {},
   "source": [
    "Loading the same tsv file as above but using a function that by default uses tabs as delimination for columns."
   ]
  },
  {
   "cell_type": "code",
   "execution_count": null,
   "id": "fifteen-democracy",
   "metadata": {},
   "outputs": [],
   "source": [
    "df = pd.read_table('data/tsv_example.tsv')\n",
    "df"
   ]
  },
  {
   "cell_type": "markdown",
   "id": "intensive-proceeding",
   "metadata": {},
   "source": [
    "Load only the first 3 rows of the dataframe."
   ]
  },
  {
   "cell_type": "code",
   "execution_count": null,
   "id": "universal-worth",
   "metadata": {},
   "outputs": [],
   "source": [
    "df = pd.read_csv('data/tsv_example.tsv', sep='\\t', nrows=3)\n",
    "df.shape # Returns the number of columsn and rows of the DataFrame (rows, columns)"
   ]
  },
  {
   "cell_type": "markdown",
   "id": "tribal-consumption",
   "metadata": {},
   "source": [
    "---"
   ]
  },
  {
   "cell_type": "markdown",
   "id": "grand-suite",
   "metadata": {},
   "source": [
    "## Headers and Indexes"
   ]
  },
  {
   "cell_type": "markdown",
   "id": "paperback-runner",
   "metadata": {},
   "source": [
    "Loading a csv with a with a header row."
   ]
  },
  {
   "cell_type": "code",
   "execution_count": null,
   "id": "forced-underwear",
   "metadata": {},
   "outputs": [],
   "source": [
    "df = pd.read_csv(\"data/noheader_example.csv\")\n",
    "df"
   ]
  },
  {
   "cell_type": "markdown",
   "id": "permanent-pharmaceutical",
   "metadata": {},
   "source": [
    "Specifying that the csv does not contain a header row."
   ]
  },
  {
   "cell_type": "code",
   "execution_count": null,
   "id": "magnetic-liberia",
   "metadata": {},
   "outputs": [],
   "source": [
    "df = pd.read_csv(\"data/noheader_example.csv\", header=None)\n",
    "df"
   ]
  },
  {
   "cell_type": "markdown",
   "id": "russian-basic",
   "metadata": {},
   "source": [
    "Load a csv with a predefined index column using the column name."
   ]
  },
  {
   "cell_type": "code",
   "execution_count": null,
   "id": "earned-color",
   "metadata": {},
   "outputs": [],
   "source": [
    "df = pd.read_csv('data/noheader_example.csv', index_col=0)\n",
    "df"
   ]
  },
  {
   "cell_type": "markdown",
   "id": "rural-aggregate",
   "metadata": {},
   "source": [
    "Load a csv without headers but with a predefined index column using the integer location of the column."
   ]
  },
  {
   "cell_type": "code",
   "execution_count": null,
   "id": "vulnerable-quebec",
   "metadata": {},
   "outputs": [],
   "source": [
    "df = pd.read_csv('data/noheader_example.csv', header=None, index_col=0)\n",
    "df"
   ]
  },
  {
   "cell_type": "markdown",
   "id": "integral-trainer",
   "metadata": {},
   "source": [
    "Add a name to the index column of the dataframe above"
   ]
  },
  {
   "cell_type": "code",
   "execution_count": null,
   "id": "valid-tennis",
   "metadata": {},
   "outputs": [],
   "source": [
    "df.index.name = \"Unique-ID\"\n",
    "df"
   ]
  },
  {
   "cell_type": "markdown",
   "id": "minor-latter",
   "metadata": {},
   "source": [
    "---"
   ]
  },
  {
   "cell_type": "markdown",
   "id": "imposed-width",
   "metadata": {},
   "source": [
    "## Common Data Loading Problems"
   ]
  },
  {
   "cell_type": "markdown",
   "id": "ambient-norwegian",
   "metadata": {},
   "source": [
    "### Missing Values"
   ]
  },
  {
   "cell_type": "markdown",
   "id": "professional-mileage",
   "metadata": {},
   "source": [
    "Loading a dataframe containing missing values that are labeled as 'Null' without letting Pandas know"
   ]
  },
  {
   "cell_type": "code",
   "execution_count": null,
   "id": "ancient-diagram",
   "metadata": {},
   "outputs": [],
   "source": [
    "df = pd.read_csv(\"data/null_values_example.csv\")\n",
    "df"
   ]
  },
  {
   "cell_type": "markdown",
   "id": "english-schedule",
   "metadata": {},
   "source": [
    "Loading the same dataframe and telling Pandas that 'Null' values indicate missing values"
   ]
  },
  {
   "cell_type": "code",
   "execution_count": null,
   "id": "olive-georgia",
   "metadata": {},
   "outputs": [],
   "source": [
    "df = pd.read_csv(\"data/null_values_example.csv\", na_values='Null')\n",
    "df"
   ]
  },
  {
   "cell_type": "markdown",
   "id": "periodic-postcard",
   "metadata": {},
   "source": [
    "## Writing Data in Text Format"
   ]
  },
  {
   "cell_type": "markdown",
   "id": "foster-depth",
   "metadata": {},
   "source": [
    "Write the dataframe `df` to a file in the data directory called new_spending_data.csv"
   ]
  },
  {
   "cell_type": "code",
   "execution_count": null,
   "id": "internal-treasurer",
   "metadata": {},
   "outputs": [],
   "source": [
    "df.to_csv('data/new_file.csv')"
   ]
  },
  {
   "cell_type": "markdown",
   "id": "interstate-while",
   "metadata": {},
   "source": [
    "## End of Notebook\n",
    "---"
   ]
  }
 ],
 "metadata": {
  "kernelspec": {
   "display_name": "Python 3",
   "language": "python",
   "name": "python3"
  },
  "language_info": {
   "codemirror_mode": {
    "name": "ipython",
    "version": 3
   },
   "file_extension": ".py",
   "mimetype": "text/x-python",
   "name": "python",
   "nbconvert_exporter": "python",
   "pygments_lexer": "ipython3",
   "version": "3.8.6"
  }
 },
 "nbformat": 4,
 "nbformat_minor": 5
}
