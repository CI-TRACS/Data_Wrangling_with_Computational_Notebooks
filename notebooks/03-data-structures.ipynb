{
 "cells": [
  {
   "cell_type": "markdown",
   "id": "configured-mandate",
   "metadata": {},
   "source": [
    "# Loading and Handling Pandas Data"
   ]
  },
  {
   "cell_type": "markdown",
   "id": "outside-retail",
   "metadata": {},
   "source": [
    "---"
   ]
  },
  {
   "cell_type": "markdown",
   "id": "alone-joining",
   "metadata": {},
   "source": [
    "## Parsing Data"
   ]
  },
  {
   "cell_type": "markdown",
   "id": "appointed-birthday",
   "metadata": {},
   "source": [
    "Import the pandas library. **Note that the code below sets pd to reference the pandas library.**"
   ]
  },
  {
   "cell_type": "code",
   "execution_count": null,
   "id": "emotional-plant",
   "metadata": {},
   "outputs": [],
   "source": [
    "import pandas as pd"
   ]
  },
  {
   "cell_type": "markdown",
   "id": "forbidden-skill",
   "metadata": {},
   "source": [
    "Loading a tsv file through the read_csv function and specifying that tabs seperate columns in the file. "
   ]
  },
  {
   "cell_type": "code",
   "execution_count": null,
   "id": "vanilla-finance",
   "metadata": {},
   "outputs": [],
   "source": [
    "df = pd.read_csv('data/spending_csv_ex.tsv', sep='\\t')\n",
    "df"
   ]
  },
  {
   "cell_type": "markdown",
   "id": "pregnant-advocate",
   "metadata": {},
   "source": [
    "Loading the same tsv file as above but using a function that by default uses tabs as delimination for columns."
   ]
  },
  {
   "cell_type": "code",
   "execution_count": null,
   "id": "vulnerable-glenn",
   "metadata": {},
   "outputs": [],
   "source": [
    "df = pd.read_table('data/spending_csv_ex.tsv')\n",
    "df"
   ]
  },
  {
   "cell_type": "markdown",
   "id": "instant-wrapping",
   "metadata": {},
   "source": [
    "Load only the first 3 rows of the dataframe."
   ]
  },
  {
   "cell_type": "code",
   "execution_count": null,
   "id": "solved-processing",
   "metadata": {},
   "outputs": [],
   "source": [
    "df = pd.read_csv('data/spending_csv_ex.csv', nrows=3)\n",
    "df.shape # Returns the number of columsn and rows of the DataFrame (rows, columns)"
   ]
  },
  {
   "cell_type": "markdown",
   "id": "institutional-thought",
   "metadata": {},
   "source": [
    "---"
   ]
  },
  {
   "cell_type": "markdown",
   "id": "postal-trick",
   "metadata": {},
   "source": [
    "## Headers and Indexes"
   ]
  },
  {
   "cell_type": "markdown",
   "id": "crazy-rhythm",
   "metadata": {},
   "source": [
    "Loading a csv with a with a header row."
   ]
  },
  {
   "cell_type": "code",
   "execution_count": null,
   "id": "contemporary-puppy",
   "metadata": {},
   "outputs": [],
   "source": [
    "df = pd.read_csv(\"data/spending_csv_ex_noheader.csv\")\n",
    "df"
   ]
  },
  {
   "cell_type": "markdown",
   "id": "danish-effect",
   "metadata": {},
   "source": [
    "Specifying that the csv does not contain a header row."
   ]
  },
  {
   "cell_type": "code",
   "execution_count": null,
   "id": "vital-james",
   "metadata": {},
   "outputs": [],
   "source": [
    "df = pd.read_csv(\"data/spending_csv_ex_noheader.csv\", header=None)\n",
    "df"
   ]
  },
  {
   "cell_type": "markdown",
   "id": "assured-router",
   "metadata": {},
   "source": [
    "Load a csv with a predefined index column using the column name."
   ]
  },
  {
   "cell_type": "code",
   "execution_count": null,
   "id": "academic-endorsement",
   "metadata": {},
   "outputs": [],
   "source": [
    "df = pd.read_csv('data/spending_csv_ex.csv', index_col=0)\n",
    "df"
   ]
  },
  {
   "cell_type": "markdown",
   "id": "aquatic-style",
   "metadata": {},
   "source": [
    "Load a csv without headers but with a predefined index column using the integer location of the column."
   ]
  },
  {
   "cell_type": "code",
   "execution_count": null,
   "id": "respected-registrar",
   "metadata": {},
   "outputs": [],
   "source": [
    "df = pd.read_csv('data/spending_csv_ex_noheader.csv', header=None, index_col=0)\n",
    "df"
   ]
  },
  {
   "cell_type": "markdown",
   "id": "electric-premium",
   "metadata": {},
   "source": [
    "Add a name to the index column of the dataframe above"
   ]
  },
  {
   "cell_type": "code",
   "execution_count": null,
   "id": "assured-firewall",
   "metadata": {},
   "outputs": [],
   "source": [
    "df.index.name = \"Unique-ID\"\n",
    "df"
   ]
  },
  {
   "cell_type": "markdown",
   "id": "twenty-harassment",
   "metadata": {},
   "source": [
    "---"
   ]
  },
  {
   "cell_type": "markdown",
   "id": "protected-student",
   "metadata": {},
   "source": [
    "## Common Data Loading Problems"
   ]
  },
  {
   "cell_type": "markdown",
   "id": "changed-bargain",
   "metadata": {},
   "source": [
    "### Missing Values"
   ]
  },
  {
   "cell_type": "markdown",
   "id": "diagnostic-script",
   "metadata": {},
   "source": [
    "Loading a dataframe containing missing values that are labeled as 'Null' without letting Pandas know"
   ]
  },
  {
   "cell_type": "code",
   "execution_count": null,
   "id": "technical-renewal",
   "metadata": {},
   "outputs": [],
   "source": [
    "df = pd.read_csv(\"data/spending_csv_ex_null_values.csv\")\n",
    "df"
   ]
  },
  {
   "cell_type": "markdown",
   "id": "introductory-cedar",
   "metadata": {},
   "source": [
    "Loading the same dataframe and telling Pandas that 'Null' values indicate missing values"
   ]
  },
  {
   "cell_type": "code",
   "execution_count": null,
   "id": "recent-makeup",
   "metadata": {},
   "outputs": [],
   "source": [
    "df = pd.read_csv(\"data/spending_csv_ex_null_values.csv\", na_values='Null')\n",
    "df"
   ]
  },
  {
   "cell_type": "markdown",
   "id": "widespread-organization",
   "metadata": {},
   "source": [
    "## Writing Data in Text Format"
   ]
  },
  {
   "cell_type": "markdown",
   "id": "every-promotion",
   "metadata": {},
   "source": [
    "Write the dataframe `df` to a file in the data directory called new_spending_data.csv"
   ]
  },
  {
   "cell_type": "code",
   "execution_count": null,
   "id": "spiritual-samuel",
   "metadata": {},
   "outputs": [],
   "source": [
    "df.to_csv('data/new_spending_data.csv')"
   ]
  },
  {
   "cell_type": "markdown",
   "id": "continent-indicator",
   "metadata": {},
   "source": [
    "## End of Notebook\n",
    "---"
   ]
  }
 ],
 "metadata": {
  "kernelspec": {
   "display_name": "Python 3",
   "language": "python",
   "name": "python3"
  },
  "language_info": {
   "codemirror_mode": {
    "name": "ipython",
    "version": 3
   },
   "file_extension": ".py",
   "mimetype": "text/x-python",
   "name": "python",
   "nbconvert_exporter": "python",
   "pygments_lexer": "ipython3",
   "version": "3.8.6"
  }
 },
 "nbformat": 4,
 "nbformat_minor": 5
}
