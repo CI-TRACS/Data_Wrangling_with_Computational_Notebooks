{
 "cells": [
  {
   "cell_type": "markdown",
   "id": "confirmed-terrorist",
   "metadata": {},
   "source": [
    "# Analyzing Real Data"
   ]
  },
  {
   "cell_type": "code",
   "execution_count": null,
   "id": "downtown-market",
   "metadata": {},
   "outputs": [],
   "source": [
    "import pandas as pd"
   ]
  },
  {
   "cell_type": "code",
   "execution_count": null,
   "id": "ordered-birmingham",
   "metadata": {},
   "outputs": [],
   "source": [
    "# This recovers the previously define dataframe\n",
    "df = pd.read_csv(\"./data/hot_dogs_data.csv\", na_values=-9, index_col=\"botid #\").drop(columns=[\" \"])\n",
    "df.columns = df.columns.str.strip()\n",
    "df[\"date\"] = pd.to_datetime(df['date mmddyy'], format='%m%d%y')\n",
    "df = df.drop(columns=[\"date mmddyy\"])\n",
    "df = df.drop(columns=[\"no2 nmol/kg\"])\n",
    "df"
   ]
  },
  {
   "cell_type": "code",
   "execution_count": null,
   "id": "reliable-bench",
   "metadata": {},
   "outputs": [],
   "source": [
    "df.shape"
   ]
  },
  {
   "cell_type": "code",
   "execution_count": null,
   "id": "tested-pillow",
   "metadata": {},
   "outputs": [],
   "source": [
    "df.count()"
   ]
  },
  {
   "cell_type": "code",
   "execution_count": null,
   "id": "intellectual-cooper",
   "metadata": {},
   "outputs": [],
   "source": [
    "df.plot(x=\"date\", y=\"temp ITS-90\", kind=\"line\")"
   ]
  },
  {
   "cell_type": "code",
   "execution_count": null,
   "id": "specific-canon",
   "metadata": {},
   "outputs": [],
   "source": [
    "surface_samples = df[df[\"press dbar\"] < 100]\n",
    "surface_samples.plot(x=\"date\", y=\"temp ITS-90\", kind=\"line\")"
   ]
  },
  {
   "cell_type": "code",
   "execution_count": null,
   "id": "conscious-henry",
   "metadata": {},
   "outputs": [],
   "source": [
    "grouped_surface_samples = surface_samples.groupby(df.date.dt.year).mean()\n",
    "grouped_surface_samples"
   ]
  },
  {
   "cell_type": "code",
   "execution_count": null,
   "id": "solar-alliance",
   "metadata": {},
   "outputs": [],
   "source": [
    "grouped_surface_samples.plot(y=\"temp ITS-90\", kind=\"line\")"
   ]
  },
  {
   "cell_type": "code",
   "execution_count": null,
   "id": "interstate-stylus",
   "metadata": {},
   "outputs": [],
   "source": [
    "grouped_surface_samples = surface_samples.groupby([(surface_samples.date.dt.year),(surface_samples.date.dt.month)]).mean()\n",
    "grouped_surface_samples"
   ]
  },
  {
   "cell_type": "code",
   "execution_count": null,
   "id": "outstanding-spray",
   "metadata": {},
   "outputs": [],
   "source": [
    "grouped_surface_samples.plot(y=\"temp ITS-90\", kind=\"line\")"
   ]
  },
  {
   "cell_type": "code",
   "execution_count": null,
   "id": "wired-flower",
   "metadata": {},
   "outputs": [],
   "source": [
    "grouped_surface_samples.plot(y=[\"hbact #*1e5/ml\", \"pbact #*1e5/ml\",\n",
    "                                \"sbact #*1e5/ml\"], kind=\"line\")"
   ]
  }
 ],
 "metadata": {
  "kernelspec": {
   "display_name": "Python 3",
   "language": "python",
   "name": "python3"
  },
  "language_info": {
   "codemirror_mode": {
    "name": "ipython",
    "version": 3
   },
   "file_extension": ".py",
   "mimetype": "text/x-python",
   "name": "python",
   "nbconvert_exporter": "python",
   "pygments_lexer": "ipython3",
   "version": "3.8.6"
  }
 },
 "nbformat": 4,
 "nbformat_minor": 5
}
