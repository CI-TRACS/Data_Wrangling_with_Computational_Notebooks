{
 "cells": [
  {
   "cell_type": "markdown",
   "id": "suffering-nirvana",
   "metadata": {},
   "source": [
    "# Analyzing Real Data"
   ]
  },
  {
   "cell_type": "code",
   "execution_count": null,
   "id": "ranking-growing",
   "metadata": {},
   "outputs": [],
   "source": [
    "import pandas as pd"
   ]
  },
  {
   "cell_type": "code",
   "execution_count": null,
   "id": "apart-trout",
   "metadata": {},
   "outputs": [],
   "source": [
    "# This recovers the previously define dataframe\n",
    "df = pd.read_csv(\"./data/hot_dogs_data.csv\", na_values=-9, \n",
    "                 usecols=list(range(0,15)), index_col=\"botid #\")\n",
    "df.columns = df.columns.str.strip()\n",
    "df[\"date\"] = pd.to_datetime(df['date mmddyy'], format='%m%d%y')\n",
    "df = df.drop(columns=[\"date mmddyy\"])\n",
    "df = df.drop(columns=[\"no2 nmol/kg\"])\n",
    "df"
   ]
  },
  {
   "cell_type": "code",
   "execution_count": null,
   "id": "indirect-tennessee",
   "metadata": {},
   "outputs": [],
   "source": [
    "df.shape"
   ]
  },
  {
   "cell_type": "code",
   "execution_count": null,
   "id": "delayed-oakland",
   "metadata": {},
   "outputs": [],
   "source": [
    "df.describe().loc[\"count\",:]"
   ]
  },
  {
   "cell_type": "code",
   "execution_count": null,
   "id": "faced-property",
   "metadata": {},
   "outputs": [],
   "source": [
    "df.plot(x=\"date\", y=\"temp ITS-90\", kind=\"line\")"
   ]
  },
  {
   "cell_type": "code",
   "execution_count": null,
   "id": "legitimate-carter",
   "metadata": {},
   "outputs": [],
   "source": [
    "surface_samples = df[df[\"press dbar\"] < 100]\n",
    "surface_samples.plot(x=\"date\", y=\"temp ITS-90\", kind=\"line\")"
   ]
  },
  {
   "cell_type": "code",
   "execution_count": null,
   "id": "amazing-viewer",
   "metadata": {},
   "outputs": [],
   "source": [
    "grouped_surface_samples = surface_samples.groupby(df.date.dt.year).mean()\n",
    "grouped_surface_samples"
   ]
  },
  {
   "cell_type": "code",
   "execution_count": null,
   "id": "medical-operations",
   "metadata": {},
   "outputs": [],
   "source": [
    "grouped_surface_samples.plot(y=\"temp ITS-90\", kind=\"line\")"
   ]
  },
  {
   "cell_type": "code",
   "execution_count": null,
   "id": "unknown-music",
   "metadata": {},
   "outputs": [],
   "source": [
    "grouped_surface_samples = surface_samples.groupby([(surface_samples.date.dt.year),(surface_samples.date.dt.month)]).mean()\n",
    "grouped_surface_samples"
   ]
  },
  {
   "cell_type": "code",
   "execution_count": null,
   "id": "subsequent-generic",
   "metadata": {},
   "outputs": [],
   "source": [
    "grouped_surface_samples.plot(y=\"temp ITS-90\", kind=\"line\")"
   ]
  },
  {
   "cell_type": "code",
   "execution_count": null,
   "id": "reported-award",
   "metadata": {},
   "outputs": [],
   "source": [
    "grouped_surface_samples.plot(y=[\"hbact #*1e5/ml\", \"pbact #*1e5/ml\",\n",
    "                                \"sbact #*1e5/ml\"], kind=\"line\")"
   ]
  },
  {
   "cell_type": "code",
   "execution_count": null,
   "id": "atomic-canon",
   "metadata": {},
   "outputs": [],
   "source": []
  }
 ],
 "metadata": {
  "kernelspec": {
   "display_name": "Python 3",
   "language": "python",
   "name": "python3"
  },
  "language_info": {
   "codemirror_mode": {
    "name": "ipython",
    "version": 3
   },
   "file_extension": ".py",
   "mimetype": "text/x-python",
   "name": "python",
   "nbconvert_exporter": "python",
   "pygments_lexer": "ipython3",
   "version": "3.8.6"
  }
 },
 "nbformat": 4,
 "nbformat_minor": 5
}
