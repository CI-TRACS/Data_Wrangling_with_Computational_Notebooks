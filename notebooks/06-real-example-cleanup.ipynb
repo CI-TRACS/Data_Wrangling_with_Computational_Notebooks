{
 "cells": [
  {
   "cell_type": "markdown",
   "id": "driving-kuwait",
   "metadata": {},
   "source": [
    "# Cleaning Real Data"
   ]
  },
  {
   "cell_type": "code",
   "execution_count": null,
   "id": "pretty-mapping",
   "metadata": {},
   "outputs": [],
   "source": [
    "import pandas as pd"
   ]
  },
  {
   "cell_type": "markdown",
   "id": "widespread-isaac",
   "metadata": {},
   "source": [
    "---"
   ]
  },
  {
   "cell_type": "markdown",
   "id": "solid-fifteen",
   "metadata": {},
   "source": [
    "## `DataFrame` Content Cleanup"
   ]
  },
  {
   "cell_type": "code",
   "execution_count": null,
   "id": "proved-madonna",
   "metadata": {},
   "outputs": [],
   "source": [
    "pd.read_csv(\"./data/hot_dogs_data.csv\", nrows=5)"
   ]
  },
  {
   "cell_type": "code",
   "execution_count": null,
   "id": "contained-green",
   "metadata": {},
   "outputs": [],
   "source": [
    "# Change the code so that when we load the data any -9 value is treated as a NaN\n",
    "pd.read_csv(\"./data/hot_dogs_data.csv\", nrows=5)"
   ]
  },
  {
   "cell_type": "code",
   "execution_count": null,
   "id": "aggregate-hospital",
   "metadata": {},
   "outputs": [],
   "source": [
    "# Copy the code above and modify it to get the names of the columns i.e. the headers\n",
    "pd.read_csv(\"./data/hot_dogs_data.csv\", nrows=5)"
   ]
  },
  {
   "cell_type": "code",
   "execution_count": null,
   "id": "referenced-builder",
   "metadata": {},
   "outputs": [],
   "source": [
    "# Change the code below so that you drop the blank column\n",
    "pd.read_csv(\"./data/hot_dogs_data.csv\", nrows=5).drop(columns=[], axis=1)"
   ]
  },
  {
   "cell_type": "code",
   "execution_count": null,
   "id": "oriental-thanksgiving",
   "metadata": {},
   "outputs": [],
   "source": [
    "# Incorporate all the changes you have made above into a single line of code and save the resulting dataframe\n",
    "# to the df variable\n",
    "df = pd.read_csv(\"./data/hot_dogs_data.csv\")\n",
    "df"
   ]
  },
  {
   "cell_type": "markdown",
   "id": "spare-fairy",
   "metadata": {},
   "source": [
    "---"
   ]
  },
  {
   "cell_type": "markdown",
   "id": "periodic-hypothesis",
   "metadata": {},
   "source": [
    "## `DataFrame` Column Types"
   ]
  },
  {
   "cell_type": "code",
   "execution_count": null,
   "id": "medium-xerox",
   "metadata": {},
   "outputs": [],
   "source": [
    "# Check the type for each column in the DataFrame\n",
    "df.dtypes"
   ]
  },
  {
   "cell_type": "code",
   "execution_count": null,
   "id": "centered-fellow",
   "metadata": {},
   "outputs": [],
   "source": [
    "# Create a new column called collection_date with the datetime formatted data\n",
    "df[\"collection_date\"] = pd.to_datetime(df['date mmddyy'], format='%m%d%y')\n",
    "df.dtypes"
   ]
  },
  {
   "cell_type": "code",
   "execution_count": null,
   "id": "sticky-modern",
   "metadata": {},
   "outputs": [],
   "source": [
    "# View the contents of the new column\n",
    "df[\"collection_date\"]"
   ]
  },
  {
   "cell_type": "code",
   "execution_count": null,
   "id": "radical-physics",
   "metadata": {},
   "outputs": [],
   "source": [
    "# Drop the old date column\n",
    "df = df.drop(columns=[\"date mmddyy\"])"
   ]
  },
  {
   "cell_type": "markdown",
   "id": "final-presentation",
   "metadata": {},
   "source": [
    "---"
   ]
  },
  {
   "cell_type": "markdown",
   "id": "automated-garage",
   "metadata": {},
   "source": [
    "## `DataFrame` Overview"
   ]
  },
  {
   "cell_type": "code",
   "execution_count": null,
   "id": "solar-firmware",
   "metadata": {},
   "outputs": [],
   "source": [
    "# Get an overview of the data found in each column\n",
    "df.describe()"
   ]
  },
  {
   "cell_type": "code",
   "execution_count": null,
   "id": "direct-accountability",
   "metadata": {},
   "outputs": [],
   "source": [
    "# Drop the no2 column since it doesn't have any useable data\n",
    "df = df.drop(columns=[\"no2 nmol/kg\"])\n",
    "df"
   ]
  },
  {
   "cell_type": "markdown",
   "id": "lightweight-reliance",
   "metadata": {},
   "source": [
    "---"
   ]
  }
 ],
 "metadata": {
  "kernelspec": {
   "display_name": "Python 3",
   "language": "python",
   "name": "python3"
  },
  "language_info": {
   "codemirror_mode": {
    "name": "ipython",
    "version": 3
   },
   "file_extension": ".py",
   "mimetype": "text/x-python",
   "name": "python",
   "nbconvert_exporter": "python",
   "pygments_lexer": "ipython3",
   "version": "3.8.6"
  }
 },
 "nbformat": 4,
 "nbformat_minor": 5
}
