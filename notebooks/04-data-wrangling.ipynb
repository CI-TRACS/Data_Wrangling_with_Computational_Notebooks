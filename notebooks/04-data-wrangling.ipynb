{
 "cells": [
  {
   "cell_type": "markdown",
   "id": "waiting-infrared",
   "metadata": {},
   "source": [
    "# Selection, Subsetting and Sorting a `DataFrame`\n",
    "\n",
    "---"
   ]
  },
  {
   "cell_type": "markdown",
   "id": "changing-assignment",
   "metadata": {},
   "source": [
    "## Selection"
   ]
  },
  {
   "cell_type": "code",
   "execution_count": null,
   "id": "cathedral-absolute",
   "metadata": {},
   "outputs": [],
   "source": [
    "import pandas as pd"
   ]
  },
  {
   "cell_type": "code",
   "execution_count": null,
   "id": "opposite-billy",
   "metadata": {},
   "outputs": [],
   "source": [
    "df = pd.read_csv(\"data/selection_dataframe.csv\", index_col=\"Sample ID\")"
   ]
  },
  {
   "cell_type": "code",
   "execution_count": null,
   "id": "automotive-design",
   "metadata": {},
   "outputs": [],
   "source": [
    "df"
   ]
  },
  {
   "cell_type": "markdown",
   "id": "adjusted-clearance",
   "metadata": {},
   "source": [
    "### Selecting Columns"
   ]
  },
  {
   "cell_type": "code",
   "execution_count": null,
   "id": "desirable-sound",
   "metadata": {},
   "outputs": [],
   "source": [
    "df[\"ph\"]"
   ]
  },
  {
   "cell_type": "markdown",
   "id": "cardiac-satellite",
   "metadata": {},
   "source": [
    "Selecting Rows"
   ]
  },
  {
   "cell_type": "code",
   "execution_count": null,
   "id": "straight-globe",
   "metadata": {},
   "outputs": [],
   "source": [
    "df.loc['Sample-1', df.columns]"
   ]
  },
  {
   "cell_type": "code",
   "execution_count": null,
   "id": "homeless-interim",
   "metadata": {},
   "outputs": [],
   "source": [
    "df.iloc[0, :]"
   ]
  },
  {
   "cell_type": "markdown",
   "id": "great-problem",
   "metadata": {},
   "source": [
    "### Selecting Columns and Rows Simultaneously"
   ]
  },
  {
   "cell_type": "code",
   "execution_count": null,
   "id": "sexual-state",
   "metadata": {},
   "outputs": [],
   "source": [
    "df.loc['Sample-1', 'ph']"
   ]
  },
  {
   "cell_type": "code",
   "execution_count": null,
   "id": "residential-burden",
   "metadata": {},
   "outputs": [],
   "source": [
    "df.loc['Sample-1', ['temp ITS-90', 'ph']]"
   ]
  },
  {
   "cell_type": "markdown",
   "id": "further-request",
   "metadata": {},
   "source": [
    "---"
   ]
  },
  {
   "cell_type": "markdown",
   "id": "smaller-excerpt",
   "metadata": {},
   "source": [
    "## Subsetting"
   ]
  },
  {
   "cell_type": "markdown",
   "id": "patient-developer",
   "metadata": {},
   "source": [
    "### Within a Single `DataFrame`"
   ]
  },
  {
   "cell_type": "code",
   "execution_count": null,
   "id": "regional-victory",
   "metadata": {},
   "outputs": [],
   "source": [
    "df['press dbar'] < 380"
   ]
  },
  {
   "cell_type": "code",
   "execution_count": null,
   "id": "interior-installation",
   "metadata": {},
   "outputs": [],
   "source": [
    "good_rows = df['press dbar'] < 380\n",
    "df[good_rows]"
   ]
  },
  {
   "cell_type": "code",
   "execution_count": null,
   "id": "future-killer",
   "metadata": {},
   "outputs": [],
   "source": [
    "df[df['press dbar'] < 380]"
   ]
  },
  {
   "cell_type": "code",
   "execution_count": null,
   "id": "specific-patient",
   "metadata": {},
   "outputs": [],
   "source": [
    "df[df['press dbar'] < 380]"
   ]
  },
  {
   "cell_type": "markdown",
   "id": "palestinian-humanitarian",
   "metadata": {},
   "source": [
    "### Between Different `DataFrame`s"
   ]
  },
  {
   "cell_type": "code",
   "execution_count": null,
   "id": "italian-lying",
   "metadata": {},
   "outputs": [],
   "source": [
    "df2 = pd.read_csv(\"./data/comparison_dataframe.csv\", index_col=\"Sample ID\")"
   ]
  },
  {
   "cell_type": "code",
   "execution_count": null,
   "id": "velvet-relationship",
   "metadata": {},
   "outputs": [],
   "source": [
    "df2"
   ]
  },
  {
   "cell_type": "code",
   "execution_count": null,
   "id": "lesbian-miller",
   "metadata": {},
   "outputs": [],
   "source": [
    "df.loc[:, \"coxy umol/kg\"] < df2.loc[:, \"coxy umol/kg\"]"
   ]
  },
  {
   "cell_type": "code",
   "execution_count": null,
   "id": "meaningful-discrimination",
   "metadata": {},
   "outputs": [],
   "source": [
    "df.loc[:, \"coxy umol/kg\"] > df2.loc[:, \"coxy umol/kg\"]"
   ]
  },
  {
   "cell_type": "code",
   "execution_count": null,
   "id": "legitimate-negative",
   "metadata": {},
   "outputs": [],
   "source": [
    "df.loc[:] < df2.loc[:]"
   ]
  },
  {
   "cell_type": "markdown",
   "id": "advised-discovery",
   "metadata": {},
   "source": [
    "---"
   ]
  },
  {
   "cell_type": "markdown",
   "id": "backed-halifax",
   "metadata": {},
   "source": [
    "## Sorting"
   ]
  },
  {
   "cell_type": "code",
   "execution_count": null,
   "id": "likely-uniform",
   "metadata": {},
   "outputs": [],
   "source": [
    "df.sort_index(axis=1)"
   ]
  },
  {
   "cell_type": "code",
   "execution_count": null,
   "id": "mounted-luther",
   "metadata": {},
   "outputs": [],
   "source": [
    "df.sort_values(by='press dbar', axis=0, ascending=False)"
   ]
  },
  {
   "cell_type": "markdown",
   "id": "funky-indication",
   "metadata": {},
   "source": [
    "## End of Notebook\n",
    "---"
   ]
  }
 ],
 "metadata": {
  "kernelspec": {
   "display_name": "Python 3",
   "language": "python",
   "name": "python3"
  },
  "language_info": {
   "codemirror_mode": {
    "name": "ipython",
    "version": 3
   },
   "file_extension": ".py",
   "mimetype": "text/x-python",
   "name": "python",
   "nbconvert_exporter": "python",
   "pygments_lexer": "ipython3",
   "version": "3.8.6"
  }
 },
 "nbformat": 4,
 "nbformat_minor": 5
}
