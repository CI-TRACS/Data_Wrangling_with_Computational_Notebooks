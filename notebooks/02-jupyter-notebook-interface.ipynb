{
 "cells": [
  {
   "cell_type": "markdown",
   "id": "neutral-press",
   "metadata": {},
   "source": [
    "# Jupyter Notebook Interface"
   ]
  },
  {
   "cell_type": "markdown",
   "id": "blessed-annex",
   "metadata": {},
   "source": [
    "## Cell Types"
   ]
  },
  {
   "cell_type": "code",
   "execution_count": null,
   "id": "conscious-forest",
   "metadata": {},
   "outputs": [],
   "source": [
    "print(\"This is a code cell\")"
   ]
  },
  {
   "cell_type": "markdown",
   "id": "tracked-compression",
   "metadata": {},
   "source": [
    "This is a markdown cell, with some _formatted_ **text**"
   ]
  },
  {
   "cell_type": "raw",
   "id": "interested-provision",
   "metadata": {},
   "source": [
    "This is a raw cell"
   ]
  },
  {
   "cell_type": "markdown",
   "id": "requested-collector",
   "metadata": {},
   "source": [
    "## Editing Cells"
   ]
  },
  {
   "cell_type": "code",
   "execution_count": null,
   "id": "worthy-consistency",
   "metadata": {},
   "outputs": [],
   "source": [
    "a = 2"
   ]
  },
  {
   "cell_type": "code",
   "execution_count": null,
   "id": "dietary-louisville",
   "metadata": {},
   "outputs": [],
   "source": [
    "print(a)"
   ]
  },
  {
   "cell_type": "code",
   "execution_count": null,
   "id": "whole-meditation",
   "metadata": {},
   "outputs": [],
   "source": [
    "a = a + 2"
   ]
  },
  {
   "cell_type": "code",
   "execution_count": null,
   "id": "recorded-affect",
   "metadata": {},
   "outputs": [],
   "source": [
    "print(a)"
   ]
  },
  {
   "cell_type": "markdown",
   "id": "thousand-pharmaceutical",
   "metadata": {},
   "source": [
    "## End of Notebook\n",
    "---"
   ]
  }
 ],
 "metadata": {
  "kernelspec": {
   "display_name": "Python 3",
   "language": "python",
   "name": "python3"
  },
  "language_info": {
   "codemirror_mode": {
    "name": "ipython",
    "version": 3
   },
   "file_extension": ".py",
   "mimetype": "text/x-python",
   "name": "python",
   "nbconvert_exporter": "python",
   "pygments_lexer": "ipython3",
   "version": "3.8.6"
  }
 },
 "nbformat": 4,
 "nbformat_minor": 5
}
