{
 "cells": [
  {
   "cell_type": "markdown",
   "id": "pleasant-letter",
   "metadata": {},
   "source": [
    "# Jupyter Notebook Interface"
   ]
  },
  {
   "cell_type": "markdown",
   "id": "independent-stockholm",
   "metadata": {},
   "source": [
    "## Cell Types"
   ]
  },
  {
   "cell_type": "code",
   "execution_count": null,
   "id": "funky-paste",
   "metadata": {},
   "outputs": [],
   "source": [
    "print(\"This is a code cell\")"
   ]
  },
  {
   "cell_type": "markdown",
   "id": "virgin-angola",
   "metadata": {},
   "source": [
    "This is a markdown cell, with some _formatted_ **text**"
   ]
  },
  {
   "cell_type": "raw",
   "id": "designing-protest",
   "metadata": {},
   "source": [
    "This is a raw cell"
   ]
  },
  {
   "cell_type": "markdown",
   "id": "divided-eligibility",
   "metadata": {},
   "source": [
    "## Editing Cells"
   ]
  },
  {
   "cell_type": "code",
   "execution_count": null,
   "id": "valued-animation",
   "metadata": {},
   "outputs": [],
   "source": [
    "a = 2"
   ]
  },
  {
   "cell_type": "code",
   "execution_count": null,
   "id": "temporal-insured",
   "metadata": {},
   "outputs": [],
   "source": [
    "print(a)"
   ]
  },
  {
   "cell_type": "code",
   "execution_count": null,
   "id": "precise-jewel",
   "metadata": {},
   "outputs": [],
   "source": [
    "a = a + 2"
   ]
  },
  {
   "cell_type": "code",
   "execution_count": null,
   "id": "other-dance",
   "metadata": {},
   "outputs": [],
   "source": [
    "print(a)"
   ]
  },
  {
   "cell_type": "markdown",
   "id": "young-potato",
   "metadata": {},
   "source": [
    "## End of Notebook\n",
    "---"
   ]
  }
 ],
 "metadata": {
  "kernelspec": {
   "display_name": "Python 3",
   "language": "python",
   "name": "python3"
  },
  "language_info": {
   "codemirror_mode": {
    "name": "ipython",
    "version": 3
   },
   "file_extension": ".py",
   "mimetype": "text/x-python",
   "name": "python",
   "nbconvert_exporter": "python",
   "pygments_lexer": "ipython3",
   "version": "3.8.6"
  }
 },
 "nbformat": 4,
 "nbformat_minor": 5
}
