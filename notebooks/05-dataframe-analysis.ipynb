{
 "cells": [
  {
   "cell_type": "markdown",
   "id": "boring-fight",
   "metadata": {},
   "source": [
    "## Wrangling Dataframes"
   ]
  },
  {
   "cell_type": "markdown",
   "id": "structural-henry",
   "metadata": {},
   "source": [
    "---"
   ]
  },
  {
   "cell_type": "markdown",
   "id": "smaller-radar",
   "metadata": {},
   "source": [
    "## `Dataframe` Descriptive Analyses"
   ]
  },
  {
   "cell_type": "markdown",
   "id": "bibliographic-failing",
   "metadata": {},
   "source": [
    "### Inspecting Data Types"
   ]
  },
  {
   "cell_type": "markdown",
   "id": "lovely-resistance",
   "metadata": {},
   "source": [
    "Load in a dataframe and check the various columns data types"
   ]
  },
  {
   "cell_type": "code",
   "execution_count": null,
   "id": "bacterial-example",
   "metadata": {},
   "outputs": [],
   "source": [
    "import pandas as pd"
   ]
  },
  {
   "cell_type": "code",
   "execution_count": null,
   "id": "committed-economy",
   "metadata": {},
   "outputs": [],
   "source": [
    "df = pd.read_csv(\"data/types_dataframe.csv\")\n",
    "df"
   ]
  },
  {
   "cell_type": "code",
   "execution_count": null,
   "id": "fifth-forest",
   "metadata": {},
   "outputs": [],
   "source": [
    "df.columns"
   ]
  },
  {
   "cell_type": "code",
   "execution_count": null,
   "id": "interesting-yukon",
   "metadata": {},
   "outputs": [],
   "source": [
    "df.dtypes"
   ]
  },
  {
   "cell_type": "code",
   "execution_count": null,
   "id": "catholic-brook",
   "metadata": {},
   "outputs": [],
   "source": [
    "pd.to_datetime(df['date mmddyy'], format='%m%d%y')"
   ]
  },
  {
   "cell_type": "code",
   "execution_count": null,
   "id": "deadly-spanish",
   "metadata": {},
   "outputs": [],
   "source": [
    "df[\"date\"] = pd.to_datetime(df['date mmddyy'], format='%m%d%y')\n",
    "df = df.drop(columns=[\"date mmddyy\"])\n",
    "df.dtypes"
   ]
  },
  {
   "cell_type": "code",
   "execution_count": null,
   "id": "alert-residence",
   "metadata": {},
   "outputs": [],
   "source": [
    "df"
   ]
  },
  {
   "cell_type": "markdown",
   "id": "strong-bowling",
   "metadata": {},
   "source": [
    "---"
   ]
  },
  {
   "cell_type": "markdown",
   "id": "monthly-cocktail",
   "metadata": {},
   "source": [
    "### `DataFrame` Methods\n",
    "\n",
    "#### `mean()` Method"
   ]
  },
  {
   "cell_type": "code",
   "execution_count": null,
   "id": "familiar-aaron",
   "metadata": {},
   "outputs": [],
   "source": [
    "df.mean(numeric_only=True)"
   ]
  },
  {
   "cell_type": "markdown",
   "id": "hired-furniture",
   "metadata": {},
   "source": [
    "#### `describe()` Method"
   ]
  },
  {
   "cell_type": "code",
   "execution_count": null,
   "id": "empty-burden",
   "metadata": {},
   "outputs": [],
   "source": [
    "df.describe(include='all', datetime_is_numeric=True)"
   ]
  },
  {
   "cell_type": "markdown",
   "id": "present-collective",
   "metadata": {},
   "source": [
    "---"
   ]
  },
  {
   "cell_type": "markdown",
   "id": "heard-membership",
   "metadata": {},
   "source": [
    "## `DataFrame` Arithmetic"
   ]
  },
  {
   "cell_type": "code",
   "execution_count": null,
   "id": "annual-registrar",
   "metadata": {},
   "outputs": [],
   "source": [
    "df_1 = pd.DataFrame({'AA':{'A':79, 'C':2, 'T':13, 'X':21}, 'BB':{'A':11, 'C':2, 'T':2, 'X':9}})\n",
    "df_2 = pd.DataFrame({'AA':{'A':21,'D':14,'T':5}, 'CC':{'A':12,'D':28,'T':121}})"
   ]
  },
  {
   "cell_type": "code",
   "execution_count": null,
   "id": "previous-tradition",
   "metadata": {},
   "outputs": [],
   "source": [
    "df_1"
   ]
  },
  {
   "cell_type": "code",
   "execution_count": null,
   "id": "crude-student",
   "metadata": {},
   "outputs": [],
   "source": [
    "df_2"
   ]
  },
  {
   "cell_type": "code",
   "execution_count": null,
   "id": "hybrid-guinea",
   "metadata": {},
   "outputs": [],
   "source": [
    "df_1[\"AA\"] + df_2[\"AA\"]"
   ]
  },
  {
   "cell_type": "markdown",
   "id": "oriental-promise",
   "metadata": {},
   "source": [
    "### Broadcasting"
   ]
  },
  {
   "cell_type": "code",
   "execution_count": null,
   "id": "young-congo",
   "metadata": {},
   "outputs": [],
   "source": [
    "df_1[\"AA\"] + 0.3"
   ]
  },
  {
   "cell_type": "markdown",
   "id": "organized-arlington",
   "metadata": {},
   "source": [
    "## End of Notebook\n",
    "---"
   ]
  }
 ],
 "metadata": {
  "kernelspec": {
   "display_name": "Python 3",
   "language": "python",
   "name": "python3"
  },
  "language_info": {
   "codemirror_mode": {
    "name": "ipython",
    "version": 3
   },
   "file_extension": ".py",
   "mimetype": "text/x-python",
   "name": "python",
   "nbconvert_exporter": "python",
   "pygments_lexer": "ipython3",
   "version": "3.8.6"
  }
 },
 "nbformat": 4,
 "nbformat_minor": 5
}
