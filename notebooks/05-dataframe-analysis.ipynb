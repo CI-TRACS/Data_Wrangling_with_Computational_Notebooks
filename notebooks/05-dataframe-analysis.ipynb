{
 "cells": [
  {
   "cell_type": "markdown",
   "id": "varied-responsibility",
   "metadata": {},
   "source": [
    "## Wrangling Dataframes"
   ]
  },
  {
   "cell_type": "markdown",
   "id": "respiratory-former",
   "metadata": {},
   "source": [
    "---"
   ]
  },
  {
   "cell_type": "markdown",
   "id": "material-advisory",
   "metadata": {},
   "source": [
    "## `Dataframe` Descriptive Analyses"
   ]
  },
  {
   "cell_type": "markdown",
   "id": "automotive-airline",
   "metadata": {},
   "source": [
    "### Inspecting Data Types"
   ]
  },
  {
   "cell_type": "markdown",
   "id": "engaged-yield",
   "metadata": {},
   "source": [
    "Load in a dataframe and check the various columns data types"
   ]
  },
  {
   "cell_type": "code",
   "execution_count": null,
   "id": "parliamentary-craft",
   "metadata": {},
   "outputs": [],
   "source": [
    "import pandas as pd"
   ]
  },
  {
   "cell_type": "code",
   "execution_count": null,
   "id": "native-seating",
   "metadata": {},
   "outputs": [],
   "source": [
    "df = pd.read_csv(\"data/types_dataframe.csv\")\n",
    "df"
   ]
  },
  {
   "cell_type": "code",
   "execution_count": null,
   "id": "cordless-porter",
   "metadata": {},
   "outputs": [],
   "source": [
    "df.dtypes"
   ]
  },
  {
   "cell_type": "code",
   "execution_count": null,
   "id": "perceived-drawing",
   "metadata": {},
   "outputs": [],
   "source": [
    "pd.to_datetime(df['date mmddyy'], format='%m%d%y')"
   ]
  },
  {
   "cell_type": "code",
   "execution_count": null,
   "id": "economic-audit",
   "metadata": {},
   "outputs": [],
   "source": [
    "df[\"date\"] = pd.to_datetime(df['date mmddyy'], format='%m%d%y')\n",
    "df = df.drop(columns=[\"date mmddyy\"])\n",
    "df.dtypes"
   ]
  },
  {
   "cell_type": "code",
   "execution_count": null,
   "id": "interesting-reply",
   "metadata": {},
   "outputs": [],
   "source": [
    "df"
   ]
  },
  {
   "cell_type": "markdown",
   "id": "horizontal-waters",
   "metadata": {},
   "source": [
    "---"
   ]
  },
  {
   "cell_type": "markdown",
   "id": "dense-fundamentals",
   "metadata": {},
   "source": [
    "### `DataFrame` Methods\n",
    "\n",
    "#### `mean()` Method"
   ]
  },
  {
   "cell_type": "code",
   "execution_count": null,
   "id": "satisfied-morning",
   "metadata": {},
   "outputs": [],
   "source": [
    "df.mean(numeric_only=True)"
   ]
  },
  {
   "cell_type": "markdown",
   "id": "persistent-degree",
   "metadata": {},
   "source": [
    "#### `describe()` Method"
   ]
  },
  {
   "cell_type": "code",
   "execution_count": null,
   "id": "forty-teens",
   "metadata": {},
   "outputs": [],
   "source": [
    "df.describe(include='all', datetime_is_numeric=True)"
   ]
  },
  {
   "cell_type": "markdown",
   "id": "dental-firewall",
   "metadata": {},
   "source": [
    "---"
   ]
  },
  {
   "cell_type": "markdown",
   "id": "given-planning",
   "metadata": {},
   "source": [
    "## `DataFrame` Arithmetic"
   ]
  },
  {
   "cell_type": "code",
   "execution_count": null,
   "id": "finished-vermont",
   "metadata": {},
   "outputs": [],
   "source": [
    "df_1 = pd.DataFrame({'AA':{'A':79, 'C':2, 'T':12, 'X':21}, 'BB':{'A':11, 'C':2, 'T':2, 'X':9}})\n",
    "df_2 = pd.DataFrame({'AA':{'A':21,'D':14,'T':5}, 'CC':{'A':12,'D':28,'T':121}})"
   ]
  },
  {
   "cell_type": "code",
   "execution_count": null,
   "id": "variable-saudi",
   "metadata": {},
   "outputs": [],
   "source": [
    "df_1"
   ]
  },
  {
   "cell_type": "code",
   "execution_count": null,
   "id": "august-correspondence",
   "metadata": {},
   "outputs": [],
   "source": [
    "df_2"
   ]
  },
  {
   "cell_type": "code",
   "execution_count": null,
   "id": "mechanical-religion",
   "metadata": {},
   "outputs": [],
   "source": [
    "df_1[\"AA\"] + df_2[\"AA\"]"
   ]
  },
  {
   "cell_type": "markdown",
   "id": "another-negotiation",
   "metadata": {},
   "source": [
    "### Broadcasting"
   ]
  },
  {
   "cell_type": "code",
   "execution_count": null,
   "id": "billion-journal",
   "metadata": {},
   "outputs": [],
   "source": [
    "df_1[\"AA\"] + 0.3"
   ]
  },
  {
   "cell_type": "markdown",
   "id": "approximate-shopper",
   "metadata": {},
   "source": [
    "## End of Notebook\n",
    "---"
   ]
  }
 ],
 "metadata": {
  "kernelspec": {
   "display_name": "Python 3",
   "language": "python",
   "name": "python3"
  },
  "language_info": {
   "codemirror_mode": {
    "name": "ipython",
    "version": 3
   },
   "file_extension": ".py",
   "mimetype": "text/x-python",
   "name": "python",
   "nbconvert_exporter": "python",
   "pygments_lexer": "ipython3",
   "version": "3.8.6"
  }
 },
 "nbformat": 4,
 "nbformat_minor": 5
}
